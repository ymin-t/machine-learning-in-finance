{
 "cells": [
  {
   "cell_type": "markdown",
   "metadata": {},
   "source": [
    "Question 4: Use the attached dataset “iris.csv” to condcut the principal component analysis."
   ]
  },
  {
   "cell_type": "code",
   "execution_count": 1,
   "metadata": {},
   "outputs": [
    {
     "name": "stdout",
     "output_type": "stream",
     "text": [
      "   Sepal_len  Sepal_wid  Petal_len  Petal_wid  Species\n",
      "0        5.1        3.5        1.4        0.2        1\n",
      "1        4.9        3.0        1.4        0.2        1\n",
      "2        4.7        3.2        1.3        0.2        1\n",
      "3        4.6        3.1        1.5        0.2        1\n",
      "4        5.0        3.6        1.4        0.2        1\n"
     ]
    }
   ],
   "source": [
    "# importing of iris data\n",
    "import pandas as pd\n",
    "iris = pd.read_csv('iris.csv')\n",
    "print(iris.head())"
   ]
  },
  {
   "cell_type": "markdown",
   "metadata": {},
   "source": [
    "a) Delete the column containing the species type and use “newiris” for this new dataset"
   ]
  },
  {
   "cell_type": "code",
   "execution_count": 2,
   "metadata": {},
   "outputs": [
    {
     "name": "stdout",
     "output_type": "stream",
     "text": [
      "   Sepal_len  Sepal_wid  Petal_len  Petal_wid\n",
      "0        5.1        3.5        1.4        0.2\n",
      "1        4.9        3.0        1.4        0.2\n",
      "2        4.7        3.2        1.3        0.2\n",
      "3        4.6        3.1        1.5        0.2\n",
      "4        5.0        3.6        1.4        0.2\n"
     ]
    }
   ],
   "source": [
    "# deleting of species type row\n",
    "newiris = iris.copy().drop('Species', axis=1)\n",
    "print(newiris.head())"
   ]
  },
  {
   "cell_type": "markdown",
   "metadata": {},
   "source": [
    "b) Perform a principal component analysis on the dataset newiris created above with “scale=TRUE”. \n",
    "Save your PCA results in “irpc”. Print “irpc” to see the output."
   ]
  },
  {
   "cell_type": "code",
   "execution_count": 3,
   "metadata": {},
   "outputs": [
    {
     "name": "stdout",
     "output_type": "stream",
     "text": [
      "New iris scaled dataset:\n",
      "\n",
      "   Sepal_len  Sepal_wid  Petal_len  Petal_wid\n",
      "0  -0.900681   1.019004  -1.340227  -1.315444\n",
      "1  -1.143017  -0.131979  -1.340227  -1.315444\n",
      "2  -1.385353   0.328414  -1.397064  -1.315444\n",
      "3  -1.506521   0.098217  -1.283389  -1.315444\n",
      "4  -1.021849   1.249201  -1.340227  -1.315444\n",
      "\n",
      " ##################################################\n",
      "Output from irpc:\n",
      "\n",
      "Standard Deviation:\n",
      " [1.71408432 0.95925226 0.38437198 0.14440866]\n",
      "                PC1       PC2       PC3       PC4\n",
      "Sepal_len  0.521066  0.377418 -0.719566 -0.261286\n",
      "Sepal_wid -0.269347  0.923296  0.244382  0.123510\n",
      "Petal_len  0.580413  0.024492  0.142126  0.801449\n",
      "Petal_wid  0.564857  0.066942  0.634273 -0.523597\n"
     ]
    }
   ],
   "source": [
    "# scaling of data\n",
    "# importing of scaler\n",
    "from sklearn.preprocessing import StandardScaler\n",
    "scaler = StandardScaler()\n",
    "scaler.fit(newiris)\n",
    "newiris_scaled = scaler.transform(newiris)\n",
    "newiris_scaled = pd.DataFrame(newiris_scaled, columns=newiris.columns)\n",
    "print(\"New iris scaled dataset:\\n\")\n",
    "print(newiris_scaled.head())\n",
    "print(\"\\n\",\"#\"*50)\n",
    "\n",
    "\n",
    "# PCA\n",
    "# importing of PCA\n",
    "import numpy as np\n",
    "from sklearn.decomposition import PCA\n",
    "\n",
    "# fitting of PCA\n",
    "irpc = PCA()\n",
    "irpc.fit(newiris_scaled)\n",
    "print(\"Output from irpc:\")\n",
    "print(\"\\nStandard Deviation:\\n\", np.sqrt(irpc.explained_variance_))\n",
    "pca_print = pd.DataFrame(irpc.components_.T, columns=[\n",
    "             \"PC1\", \"PC2\", \"PC3\", \"PC4\"], index=newiris.columns)\n",
    "print(pca_print)\n"
   ]
  },
  {
   "cell_type": "markdown",
   "metadata": {},
   "source": [
    "c) Compare output in “irpc” with “eigen(cor(newiris))”. What do you notice?"
   ]
  },
  {
   "cell_type": "code",
   "execution_count": 4,
   "metadata": {},
   "outputs": [
    {
     "name": "stdout",
     "output_type": "stream",
     "text": [
      "Eigenvalues:\n",
      " [2.93808505 0.9201649  0.14774182 0.02085386]\n",
      "\n",
      "Eigenvectors:\n",
      " [[ 0.52106591 -0.37741762 -0.71956635  0.26128628]\n",
      " [-0.26934744 -0.92329566  0.24438178 -0.12350962]\n",
      " [ 0.5804131  -0.02449161  0.14212637 -0.80144925]\n",
      " [ 0.56485654 -0.06694199  0.63427274  0.52359713]]\n",
      "\n",
      "The square root of Eigenvalues:\n",
      " [1.71408432 0.95925226 0.38437198 0.14440866]\n"
     ]
    }
   ],
   "source": [
    "lambda_, U = np.linalg.eig(newiris_scaled.cov())\n",
    "print(\"Eigenvalues:\\n\", lambda_)\n",
    "print(\"\\nEigenvectors:\\n\", U)\n",
    "\n",
    "Eigenvalues_sqrt = np.sqrt(lambda_)\n",
    "print(\"\\nThe square root of Eigenvalues:\\n\",Eigenvalues_sqrt)"
   ]
  },
  {
   "cell_type": "markdown",
   "metadata": {},
   "source": [
    "One, the Eigenvectors is the same as Components from the pca.\n",
    "Two, the square root of the Eigenvalues(or Variance) is the same as standard deviation from the pca.\n",
    "We can verify the result of pca with eigen decomposition"
   ]
  },
  {
   "cell_type": "markdown",
   "metadata": {},
   "source": [
    "d) Write down the first two PCs (in formula) and calculate the proportion of variance\n",
    "explained by PC1 and PC2, respectively according to the output in “irpc”."
   ]
  },
  {
   "cell_type": "code",
   "execution_count": 5,
   "metadata": {},
   "outputs": [
    {
     "name": "stdout",
     "output_type": "stream",
     "text": [
      "The proportion explained by all the PCs: [[0.72962445 0.22850762 0.03668922 0.00517871]]\n",
      "The proportion of variance explained by the 1st PC:  72.96%\n",
      "The proportion of variance explained by the 2nd PC:  22.85%\n"
     ]
    }
   ],
   "source": [
    "# Calculating the proportions of total variance explained for each of the principal components\n",
    "newiris_scaled_cov = np.matrix(newiris_scaled.cov())\n",
    "proportion_explained = np.array(lambda_ / newiris_scaled_cov.trace())\n",
    "print(f'The proportion explained by all the PCs: {proportion_explained}')\n",
    "# The proportions of variance explained by the 1st 2 PCs\n",
    "print(f'The proportion of variance explained by the 1st PC: {proportion_explained[0][0]: .2%}')\n",
    "print(f'The proportion of variance explained by the 2nd PC: {proportion_explained[0][1]: .2%}')"
   ]
  },
  {
   "attachments": {
    "image.png": {
     "image/png": "[encoded data removed]"
    }
   },
   "cell_type": "markdown",
   "metadata": {},
   "source": [
    "![image.png](attachment:image.png)"
   ]
  },
  {
   "cell_type": "markdown",
   "metadata": {},
   "source": [
    "Question 5: Consider the insurance company case. The dataset “Caravan.csv” contains 5822 observations on 86 variables. The last column (Purchase) indicates whether the customer\n",
    "purchased a caravan insurance policy. Other variables are mainly sociodemographic\n",
    "data and product ownership and for simplicity, we treat them as numerical data. The\n",
    "first 1000 records are considered as test data and others are training data. We aim\n",
    "to apply K-nearest neighbors (KNN) method to do the prediction on Purchase with\n",
    "other variables as inputs."
   ]
  },
  {
   "cell_type": "code",
   "execution_count": 6,
   "metadata": {},
   "outputs": [
    {
     "name": "stdout",
     "output_type": "stream",
     "text": [
      "   MOSTYPE  MAANTHUI  MGEMOMV  MGEMLEEF  MOSHOOFD  MGODRK  MGODPR  MGODOV  \\\n",
      "0       33         1        3         2         8       0       5       1   \n",
      "1       37         1        2         2         8       1       4       1   \n",
      "2       37         1        2         2         8       0       4       2   \n",
      "3        9         1        3         3         3       2       3       2   \n",
      "4       40         1        4         2        10       1       4       1   \n",
      "\n",
      "   MGODGE  MRELGE  ...  APERSONG  AGEZONG  AWAOREG  ABRAND  AZEILPL  APLEZIER  \\\n",
      "0       3       7  ...         0        0        0       1        0         0   \n",
      "1       4       6  ...         0        0        0       1        0         0   \n",
      "2       4       3  ...         0        0        0       1        0         0   \n",
      "3       4       5  ...         0        0        0       1        0         0   \n",
      "4       4       7  ...         0        0        0       1        0         0   \n",
      "\n",
      "   AFIETS  AINBOED  ABYSTAND  Purchase  \n",
      "0       0        0         0        No  \n",
      "1       0        0         0        No  \n",
      "2       0        0         0        No  \n",
      "3       0        0         0        No  \n",
      "4       0        0         0        No  \n",
      "\n",
      "[5 rows x 86 columns]\n",
      "################################################################################\n",
      "0       0\n",
      "1       0\n",
      "2       0\n",
      "3       0\n",
      "4       0\n",
      "       ..\n",
      "5817    0\n",
      "5818    0\n",
      "5819    1\n",
      "5820    0\n",
      "5821    0\n",
      "Name: Purchase, Length: 5822, dtype: int64\n",
      "################################################################################\n",
      "The shape of data set:     (5822, 86)\n",
      "The shape of test_X set:   (1000, 85)\n",
      "The shape of test_Y set:   (1000,)\n",
      "The shape of train_X set:  (4822, 85)\n",
      "The shape of train_Y set:  (4822,)\n"
     ]
    }
   ],
   "source": [
    "# importing of Caravan data\n",
    "caravan = pd.read_csv('Caravan.csv')\n",
    "print(caravan.head())\n",
    "print(\"#\"*80)\n",
    "\n",
    "# modifying purchase column to binarary notation\n",
    "# Yes:1 , No:2\n",
    "caravan.Purchase = caravan.Purchase.map(dict(Yes=1, No=0))\n",
    "print(caravan.Purchase)\n",
    "print(\"#\"*80)\n",
    "\n",
    "# splitting of data to test and train\n",
    "print(\"The shape of data set:    \",caravan.shape)\n",
    "test_X = caravan.iloc[:1000,:-1]\n",
    "print(\"The shape of test_X set:  \",test_X.shape)\n",
    "test_Y = caravan.iloc[:1000,-1]\n",
    "print(\"The shape of test_Y set:  \",test_Y.shape)\n",
    "train_X = caravan.iloc[1000:,:-1]\n",
    "print(\"The shape of train_X set: \",train_X.shape)\n",
    "train_Y = caravan.iloc[1000:,-1]\n",
    "print(\"The shape of train_Y set: \",train_Y.shape)"
   ]
  },
  {
   "cell_type": "markdown",
   "metadata": {},
   "source": [
    "a) Evaluate the variances of the first and the second variables. Should we scale the\n",
    "data?"
   ]
  },
  {
   "cell_type": "code",
   "execution_count": 7,
   "metadata": {},
   "outputs": [
    {
     "data": {
      "text/plain": [
       "MOSTYPE     165.037847\n",
       "MAANTHUI      0.164708\n",
       "dtype: float64"
      ]
     },
     "execution_count": 7,
     "metadata": {},
     "output_type": "execute_result"
    }
   ],
   "source": [
    "caravan.iloc[:,0:2].var()"
   ]
  },
  {
   "cell_type": "markdown",
   "metadata": {},
   "source": [
    "Yes, we have to scale the data. Fristly, since we are treating the variable as numerical data, the scale of each varaible does affect how the model is train. Variable with a larger scale is more like to dominate the smaller scale variable. Secondly, as we are using KNN as our machine learning model, KNN is a distance based algorithms, so it is highly affected by the scale of the varaible."
   ]
  },
  {
   "cell_type": "markdown",
   "metadata": {},
   "source": [
    "b) Scale the training data and use the same sample mean and standard deviation (for each variable) to scale the test data. For the subsequent parts, we shall also scale the data."
   ]
  },
  {
   "cell_type": "code",
   "execution_count": 8,
   "metadata": {},
   "outputs": [
    {
     "name": "stdout",
     "output_type": "stream",
     "text": [
      "train_X_scaled:\n",
      "        MOSTYPE  MAANTHUI   MGEMOMV  MGEMLEEF  MOSHOOFD    MGODRK    MGODPR  \\\n",
      "1000  1.230809 -0.275902  2.936149  0.006598  1.484140  0.303643 -2.116120   \n",
      "1001  0.138360 -0.275902 -2.124386  2.454112  0.081313 -0.701966 -0.360957   \n",
      "1002 -1.110152 -0.275902  1.671015 -1.217158 -0.970807  1.309252  0.809151   \n",
      "1003  1.074745 -0.275902 -0.859252 -1.217158  1.133433 -0.701966 -0.360957   \n",
      "1004  1.152777  2.215485  0.405882  0.006598  1.133433  0.303643  0.224097   \n",
      "...        ...       ...       ...       ...       ...       ...       ...   \n",
      "5817  0.918681 -0.275902 -2.124386 -1.217158  0.782726 -0.701966  0.809151   \n",
      "5818  0.840649 -0.275902  1.671015  1.230355  0.782726  0.303643 -0.360957   \n",
      "5819  0.684585 -0.275902  0.405882  1.230355  0.782726 -0.701966  0.809151   \n",
      "5820  0.762617 -0.275902  0.405882 -1.217158  0.782726 -0.701966  1.394205   \n",
      "5821  0.684585 -0.275902  0.405882  0.006598  0.782726 -0.701966  0.809151   \n",
      "\n",
      "        MGODOV    MGODGE    MRELGE  ...    ALEVEN  APERSONG   AGEZONG  \\\n",
      "1000  3.858843 -0.164467  1.481543  ... -0.211091   -0.0677 -0.077785   \n",
      "1001  0.907795  0.464445 -1.668832  ... -0.211091   -0.0677 -0.077785   \n",
      "1002 -1.059570 -0.164467 -0.093644  ... -0.211091   -0.0677 -0.077785   \n",
      "1003  0.907795  0.464445  0.431418  ... -0.211091   -0.0677 -0.077785   \n",
      "1004 -1.059570 -0.164467  0.431418  ... -0.211091   -0.0677 -0.077785   \n",
      "...        ...       ...       ...  ...       ...       ...       ...   \n",
      "5817 -0.075888 -0.793378 -2.718957  ...  5.232127   -0.0677 -0.077785   \n",
      "5818 -0.075888  0.464445 -0.093644  ... -0.211091   -0.0677 -0.077785   \n",
      "5819 -1.059570 -0.164467 -0.618707  ... -0.211091   -0.0677 -0.077785   \n",
      "5820 -1.059570 -0.793378  0.431418  ... -0.211091   -0.0677 -0.077785   \n",
      "5821 -0.075888 -0.793378  0.431418  ... -0.211091   -0.0677 -0.077785   \n",
      "\n",
      "      AWAOREG    ABRAND  AZEILPL  APLEZIER    AFIETS   AINBOED  ABYSTAND  \n",
      "1000 -0.05998  0.777508 -0.02037 -0.070937 -0.154279 -0.088051 -0.117802  \n",
      "1001 -0.05998  0.777508 -0.02037 -0.070937 -0.154279 -0.088051 -0.117802  \n",
      "1002 -0.05998 -1.003558 -0.02037 -0.070937 -0.154279 -0.088051 -0.117802  \n",
      "1003 -0.05998 -1.003558 -0.02037 -0.070937 -0.154279 -0.088051 -0.117802  \n",
      "1004 -0.05998 -1.003558 -0.02037 -0.070937 -0.154279 -0.088051 -0.117802  \n",
      "...       ...       ...      ...       ...       ...       ...       ...  \n",
      "5817 -0.05998  0.777508 -0.02037 -0.070937 -0.154279 -0.088051 -0.117802  \n",
      "5818 -0.05998  0.777508 -0.02037 -0.070937 -0.154279 -0.088051 -0.117802  \n",
      "5819 -0.05998  0.777508 -0.02037 -0.070937 -0.154279 -0.088051 -0.117802  \n",
      "5820 -0.05998 -1.003558 -0.02037 -0.070937 -0.154279 -0.088051 -0.117802  \n",
      "5821 -0.05998 -1.003558 -0.02037 -0.070937 -0.154279 -0.088051 -0.117802  \n",
      "\n",
      "[4822 rows x 85 columns]\n",
      "################################################################################\n",
      "\n",
      "test_X_scaled:\n",
      "       MOSTYPE  MAANTHUI   MGEMOMV  MGEMLEEF  MOSHOOFD    MGODRK    MGODPR  \\\n",
      "0    0.684585 -0.275902  0.405882 -1.217158  0.782726 -0.701966  0.224097   \n",
      "1    0.996713 -0.275902 -0.859252 -1.217158  0.782726  0.303643 -0.360957   \n",
      "2    0.996713 -0.275902 -0.859252 -1.217158  0.782726 -0.701966 -0.360957   \n",
      "3   -1.188184 -0.275902  0.405882  0.006598 -0.970807  1.309252 -0.946012   \n",
      "4    1.230809 -0.275902  1.671015 -1.217158  1.484140  0.303643 -0.360957   \n",
      "..        ...       ...       ...       ...       ...       ...       ...   \n",
      "995  0.684585 -0.275902 -0.859252  1.230355  0.782726  1.309252  0.224097   \n",
      "996 -1.812441 -0.275902 -0.859252  1.230355 -1.672221 -0.701966 -1.531066   \n",
      "997  0.684585 -0.275902  0.405882  0.006598  0.782726  0.303643  0.224097   \n",
      "998 -1.656377 -0.275902 -0.859252  1.230355 -1.672221 -0.701966 -0.360957   \n",
      "999  0.684585 -0.275902 -0.859252  1.230355  0.782726 -0.701966  2.564314   \n",
      "\n",
      "       MGODOV    MGODGE    MRELGE  ...    ALEVEN  APERSONG   AGEZONG  AWAOREG  \\\n",
      "0   -0.075888 -0.164467  0.431418  ... -0.211091   -0.0677 -0.077785 -0.05998   \n",
      "1   -0.075888  0.464445 -0.093644  ... -0.211091   -0.0677 -0.077785 -0.05998   \n",
      "2    0.907795  0.464445 -1.668832  ... -0.211091   -0.0677 -0.077785 -0.05998   \n",
      "3    0.907795  0.464445 -0.618707  ... -0.211091   -0.0677 -0.077785 -0.05998   \n",
      "4   -0.075888  0.464445  0.431418  ... -0.211091   -0.0677 -0.077785 -0.05998   \n",
      "..        ...       ...       ...  ...       ...       ...       ...      ...   \n",
      "995 -1.059570 -0.164467  1.481543  ... -0.211091   -0.0677 -0.077785 -0.05998   \n",
      "996 -1.059570  2.351181 -0.093644  ... -0.211091   -0.0677 -0.077785 -0.05998   \n",
      "997 -1.059570 -0.164467  0.431418  ... -0.211091   -0.0677 -0.077785 -0.05998   \n",
      "998  0.907795  0.464445 -0.618707  ... -0.211091   -0.0677 -0.077785 -0.05998   \n",
      "999 -1.059570 -2.051202  1.481543  ... -0.211091   -0.0677 -0.077785 -0.05998   \n",
      "\n",
      "       ABRAND  AZEILPL  APLEZIER    AFIETS   AINBOED  ABYSTAND  \n",
      "0    0.777508 -0.02037 -0.070937 -0.154279 -0.088051 -0.117802  \n",
      "1    0.777508 -0.02037 -0.070937 -0.154279 -0.088051 -0.117802  \n",
      "2    0.777508 -0.02037 -0.070937 -0.154279 -0.088051 -0.117802  \n",
      "3    0.777508 -0.02037 -0.070937 -0.154279 -0.088051 -0.117802  \n",
      "4    0.777508 -0.02037 -0.070937 -0.154279 -0.088051 -0.117802  \n",
      "..        ...      ...       ...       ...       ...       ...  \n",
      "995 -1.003558 -0.02037 -0.070937 -0.154279 -0.088051 -0.117802  \n",
      "996  0.777508 -0.02037 -0.070937  8.973759 -0.088051 -0.117802  \n",
      "997  0.777508 -0.02037 -0.070937 -0.154279 -0.088051 -0.117802  \n",
      "998  0.777508 -0.02037 -0.070937 -0.154279 -0.088051 -0.117802  \n",
      "999 -1.003558 -0.02037 -0.070937 -0.154279 -0.088051 -0.117802  \n",
      "\n",
      "[1000 rows x 85 columns]\n"
     ]
    }
   ],
   "source": [
    "# importing of standard scaler\n",
    "from sklearn.preprocessing import StandardScaler\n",
    "scaler = StandardScaler()\n",
    "\n",
    "# fit/train the scaler with train_X data\n",
    "scaler.fit(train_X)\n",
    "\n",
    "# transform the data set using scaler(trained with the train_X data)\n",
    "train_X_scaled = scaler.transform(train_X)\n",
    "test_X_scaled = scaler.transform(test_X)\n",
    "\n",
    "# convert np array to pd DataFrame\n",
    "train_X_scaled = pd.DataFrame(train_X_scaled, index=train_X.index, columns=train_X.columns)\n",
    "test_X_scaled = pd.DataFrame(test_X_scaled, index=test_X.index, columns=test_X.columns)\n",
    "\n",
    "print(\"train_X_scaled:\\n\",train_X_scaled)\n",
    "print(\"#\"*80)\n",
    "print(\"\\ntest_X_scaled:\\n\",test_X_scaled)"
   ]
  },
  {
   "cell_type": "markdown",
   "metadata": {},
   "source": [
    "c) Set seed as your matric number. Apply KNN method with K = 3 to obtain the test misclassification error and output the classification table."
   ]
  },
  {
   "cell_type": "code",
   "execution_count": 9,
   "metadata": {},
   "outputs": [
    {
     "name": "stdout",
     "output_type": "stream",
     "text": [
      "The misclssification error:  0.074\n",
      "\n",
      "The confusion matrix:\n",
      " [[920  21]\n",
      " [ 53   6]]\n",
      "\n",
      "True negative:   920\n",
      "False positive:  21\n",
      "False negative:  53\n",
      "True positive:   6\n"
     ]
    }
   ],
   "source": [
    "seed = 2002094\n",
    "# importing of KNN\n",
    "from sklearn.neighbors import KNeighborsClassifier\n",
    "from sklearn.metrics import confusion_matrix\n",
    "KNN = KNeighborsClassifier(n_neighbors=3)\n",
    "KNN.fit(train_X_scaled, train_Y)\n",
    "y_true, y_pred = test_Y, KNN.predict(test_X_scaled)\n",
    "\n",
    "# misclassification error\n",
    "miss_err = (y_pred != test_Y).mean()\n",
    "print(\"The misclssification error: \",miss_err)\n",
    "\n",
    "# classification table\n",
    "cm = confusion_matrix(y_true, y_pred)\n",
    "print(\"\\nThe confusion matrix:\\n\",cm)\n",
    "tn, fp, fn, tp = cm.ravel()\n",
    "print(\"\\nTrue negative:  \",tn)\n",
    "print(\"False positive: \",fp)\n",
    "print(\"False negative: \",fn)\n",
    "print(\"True positive:  \",tp)"
   ]
  },
  {
   "cell_type": "markdown",
   "metadata": {},
   "source": [
    "In the following parts, you are suggested to consider an alternative cross-validation function, for example, Recall=TP/P, where TP is the number of true positive predictions and P is the number of positive observations in the dataset. You are encouraged\n",
    "to use different cross-validation function and observe the outcomes. However, for submission, you only need to perform for one choice."
   ]
  },
  {
   "cell_type": "markdown",
   "metadata": {},
   "source": [
    "d) Set seed as your matric number. Use valuation-set approach to determine the optimal K value with the training data only. The candidate values of K are {3, 4, . . . , 10}."
   ]
  },
  {
   "cell_type": "code",
   "execution_count": 10,
   "metadata": {},
   "outputs": [
    {
     "name": "stdout",
     "output_type": "stream",
     "text": [
      "Test Error:\n",
      " [0.06410990269032628, 0.05495134516313681, 0.057240984544934176, 0.05323411562678878, 0.053806525472238124, 0.05151688609044076, 0.052089295935890095, 0.05151688609044076]\n",
      "F-score:\n",
      " [0.0967741935483871, 0.058823529411764705, 0.10714285714285714, 0.021052631578947368, 0.06, 0.021739130434782608, 0.021505376344086023, 0.021739130434782608]\n",
      "Recall:\n",
      " [0.06593406593406594, 0.03296703296703297, 0.06593406593406594, 0.01098901098901099, 0.03296703296703297, 0.01098901098901099, 0.01098901098901099, 0.01098901098901099]\n"
     ]
    }
   ],
   "source": [
    "from sklearn.model_selection import train_test_split\n",
    "\n",
    "\n",
    "seed = 2002094\n",
    "Kmax = 10\n",
    "ErrTe =[]\n",
    "f_score =[]\n",
    "recall =[]\n",
    "\n",
    "X_train, X_test, y_train, y_test = train_test_split(caravan.iloc[:,:-1], caravan.iloc[:,-1], test_size=0.3, random_state=seed)\n",
    "scaler1 = StandardScaler()\n",
    "\n",
    "\n",
    "# fit/train the scaler with train_X data\n",
    "scaler1.fit(X_train)\n",
    "\n",
    "# transform the data set using scaler(trained with the train_X data)\n",
    "X_train_scaled = scaler1.transform(X_train)\n",
    "X_test_scaled = scaler1.transform(X_test)\n",
    "\n",
    "# convert np array to pd DataFrame\n",
    "X_train_scaled = pd.DataFrame(X_train_scaled, columns=X_train.columns)\n",
    "X_test_scaled = pd.DataFrame(X_test_scaled, columns=X_test.columns)\n",
    "\n",
    "for kvalue in range(3, Kmax+1):\n",
    "    KNN = KNeighborsClassifier(n_neighbors=kvalue)\n",
    "    KNN.fit(X_train_scaled, y_train)\n",
    "    y_pred = KNN.predict(X_test_scaled)\n",
    "    ErrTe.append((y_pred != y_test).mean())\n",
    "    cm = confusion_matrix(y_test, y_pred)\n",
    "    tn, fp, fn, tp = cm.ravel()\n",
    "    f_score.append(tp/(tp + (0.5*(fp +fn)))) \n",
    "    recall.append(tp/(tp+fn))  \n",
    "        \n",
    "print(\"Test Error:\\n\",ErrTe)\n",
    "print(\"F-score:\\n\",f_score)\n",
    "print(\"Recall:\\n\",recall)"
   ]
  },
  {
   "cell_type": "code",
   "execution_count": 11,
   "metadata": {
    "scrolled": true
   },
   "outputs": [
    {
     "data": {
      "text/plain": [
       "Text(0, 0.5, 'Recall')"
      ]
     },
     "execution_count": 11,
     "metadata": {},
     "output_type": "execute_result"
    },
    {
     "data": {
      "image/png": "[encoded data removed]",
      "text/plain": [
       "<Figure size 1296x360 with 3 Axes>"
      ]
     },
     "metadata": {
      "needs_background": "light"
     },
     "output_type": "display_data"
    }
   ],
   "source": [
    "import matplotlib.pyplot as plt\n",
    "import seaborn as sns\n",
    "fig, ax = plt.subplots(1,3,figsize = (18,5))\n",
    "\n",
    "sns.lineplot(x = np.arange(3, Kmax+1), y = np.asarray(ErrTe), ax = ax[0])\n",
    "ax[0].set_xlabel(\"No of neighbours\")\n",
    "ax[0].set_ylabel(\"ErrTe\")\n",
    "\n",
    "\n",
    "sns.lineplot(x = np.arange(3, Kmax+1), y = np.asarray(f_score), ax = ax[1])\n",
    "ax[1].set_xlabel(\"No of neighbours\")\n",
    "ax[1].set_ylabel(\"F-score\")\n",
    "\n",
    "sns.lineplot(x = np.arange(3, Kmax+1), y = np.asarray(f_score), ax = ax[2])\n",
    "ax[2].set_xlabel(\"No of neighbours\")\n",
    "ax[2].set_ylabel(\"Recall\")"
   ]
  },
  {
   "cell_type": "markdown",
   "metadata": {},
   "source": [
    "e) Set seed as your matric number minus one. Repeat part (d) and compare the results. Are they suggesting the same optimal K?"
   ]
  },
  {
   "cell_type": "code",
   "execution_count": 12,
   "metadata": {},
   "outputs": [
    {
     "name": "stdout",
     "output_type": "stream",
     "text": [
      "Test Error:\n",
      " [0.08128219805380653, 0.06811677160847167, 0.07097882083571837, 0.06697195191757298, 0.06754436176302232, 0.06697195191757298, 0.06811677160847167, 0.06697195191757298]\n",
      "F-score:\n",
      " [0.06578947368421052, 0.01652892561983471, 0.015873015873015872, 0.0, 0.016666666666666666, 0.0, 0.0, 0.0]\n",
      "Recall:\n",
      " [0.042735042735042736, 0.008547008547008548, 0.008547008547008548, 0.0, 0.008547008547008548, 0.0, 0.0, 0.0]\n"
     ]
    }
   ],
   "source": [
    "seed = 2002094 - 1\n",
    "Kmax = 10\n",
    "ErrTe =[]\n",
    "f_score=[]\n",
    "recall =[]\n",
    "\n",
    "X_train, X_test, y_train, y_test = train_test_split(caravan.iloc[:,:-1], caravan.iloc[:,-1], test_size=0.3, random_state=seed)\n",
    "scaler1 = StandardScaler()\n",
    "\n",
    "\n",
    "# fit/train the scaler with train_X data\n",
    "scaler1.fit(X_train)\n",
    "\n",
    "# transform the data set using scaler(trained with the train_X data)\n",
    "X_train_scaled = scaler1.transform(X_train)\n",
    "X_test_scaled = scaler1.transform(X_test)\n",
    "\n",
    "# convert np array to pd DataFrame\n",
    "X_train_scaled = pd.DataFrame(X_train_scaled, columns=X_train.columns)\n",
    "X_test_scaled = pd.DataFrame(X_test_scaled, columns=X_test.columns)\n",
    "\n",
    "for kvalue in range(3, Kmax+1):\n",
    "    KNN = KNeighborsClassifier(n_neighbors=kvalue)\n",
    "    KNN.fit(X_train_scaled, y_train)\n",
    "    y_pred = KNN.predict(X_test_scaled)\n",
    "    ErrTe.append((y_pred != y_test).mean())\n",
    "    cm = confusion_matrix(y_test, y_pred)\n",
    "    tn, fp, fn, tp = cm.ravel()\n",
    "    f_score.append(tp/(tp + (0.5*(fp +fn))))\n",
    "    recall.append(tp/(tp+fn))\n",
    "    \n",
    "print(\"Test Error:\\n\",ErrTe)\n",
    "print(\"F-score:\\n\",f_score)\n",
    "print(\"Recall:\\n\",recall)"
   ]
  },
  {
   "cell_type": "code",
   "execution_count": 13,
   "metadata": {},
   "outputs": [
    {
     "data": {
      "text/plain": [
       "Text(0, 0.5, 'Recall')"
      ]
     },
     "execution_count": 13,
     "metadata": {},
     "output_type": "execute_result"
    },
    {
     "data": {
      "image/png": "[encoded data removed]",
      "text/plain": [
       "<Figure size 1296x360 with 3 Axes>"
      ]
     },
     "metadata": {
      "needs_background": "light"
     },
     "output_type": "display_data"
    }
   ],
   "source": [
    "import matplotlib.pyplot as plt\n",
    "import seaborn as sns\n",
    "fig, ax = plt.subplots(1,3,figsize = (18,5))\n",
    "\n",
    "sns.lineplot(x = np.arange(3, Kmax+1), y = np.asarray(ErrTe), ax = ax[0])\n",
    "ax[0].set_xlabel(\"No of neighbours\")\n",
    "ax[0].set_ylabel(\"ErrTe\")\n",
    "\n",
    "\n",
    "sns.lineplot(x = np.arange(3, Kmax+1), y = np.asarray(f_score), ax = ax[1])\n",
    "ax[1].set_xlabel(\"No of neighbours\")\n",
    "ax[1].set_ylabel(\"F-score\")\n",
    "\n",
    "sns.lineplot(x = np.arange(3, Kmax+1), y = np.asarray(f_score), ax = ax[2])\n",
    "ax[2].set_xlabel(\"No of neighbours\")\n",
    "ax[2].set_ylabel(\"Recall\")"
   ]
  },
  {
   "cell_type": "markdown",
   "metadata": {},
   "source": [
    "Both results in (d) and (e) are different because the splitting of the test set and the train set is split differently. Therefor we cannot conclude a optimal K value with this approach."
   ]
  },
  {
   "cell_type": "markdown",
   "metadata": {},
   "source": [
    "f) Set seed as your matric number. Use 5-fold cross-validation approach to determine the optimal K value with the training data only. The candidate values of K are {3, 4, . . . , 10}."
   ]
  },
  {
   "cell_type": "code",
   "execution_count": 14,
   "metadata": {},
   "outputs": [],
   "source": [
    "from sklearn.model_selection import KFold\n",
    "\n",
    "seed = 2002094\n",
    "Kmax = 10\n",
    "ErrCV = np.zeros((8, 5))\n",
    "fscoreCV = np.zeros((8, 5))\n",
    "recallCV = np.zeros((8, 5))\n",
    "f = 0\n",
    "X = caravan.iloc[:,:-1]\n",
    "y = caravan.iloc[:,-1]\n",
    "\n",
    "kf = KFold(5, random_state=seed, shuffle=True)\n",
    "kf.get_n_splits(X)\n",
    "\n",
    "\n",
    "for train_idx, test_idx in kf.split(X):\n",
    "    # spliting of data\n",
    "    X_train, y_train = X.loc[train_idx,:], y[train_idx]\n",
    "    X_test, y_test = X.loc[test_idx,:], y[test_idx]\n",
    "    \n",
    "    # scaling of data after spliting\n",
    "    scaler = StandardScaler()\n",
    "    scaler.fit(X_train)\n",
    "    X_train_scaled = scaler.transform(X_train)\n",
    "    X_test_scaled = scaler.transform(X_test)\n",
    "    X_train_scaled = pd.DataFrame(X_train_scaled, columns=X_train.columns)\n",
    "    X_test_scaled = pd.DataFrame(X_test_scaled, columns=X_test.columns)\n",
    "    \n",
    "    for kvalue in range(3, Kmax+1):\n",
    "        KNN = KNeighborsClassifier(n_neighbors=kvalue)\n",
    "        KNN.fit(X_train, y_train)    \n",
    "        y_pred = KNN.predict(X_test)    \n",
    "        ErrCV[kvalue-3, f] = (y_pred != y_test).mean()\n",
    "        cm = confusion_matrix(y_test, y_pred)\n",
    "        tn, fp, fn, tp = cm.ravel()        \n",
    "        fscoreCV[kvalue-3, f] = (tp/(tp + (0.5*(fp +fn)))) \n",
    "        recallCV[kvalue-3, f] = tp/(tp+fn)\n",
    "        \n",
    "    f +=1"
   ]
  },
  {
   "cell_type": "code",
   "execution_count": 15,
   "metadata": {},
   "outputs": [
    {
     "data": {
      "text/plain": [
       "Text(0, 0.5, 'Recall')"
      ]
     },
     "execution_count": 15,
     "metadata": {},
     "output_type": "execute_result"
    },
    {
     "data": {
      "image/png": "[encoded data removed]",
      "text/plain": [
       "<Figure size 1296x360 with 3 Axes>"
      ]
     },
     "metadata": {
      "needs_background": "light"
     },
     "output_type": "display_data"
    }
   ],
   "source": [
    "import matplotlib.pyplot as plt\n",
    "import seaborn as sns\n",
    "fig, ax = plt.subplots(1,3,figsize = (18,5))\n",
    "\n",
    "sns.lineplot(x = np.arange(3, Kmax+1), y = ErrCV.mean(axis=1), ax = ax[0])\n",
    "ax[0].set_xlabel(\"No of neighbours\")\n",
    "ax[0].set_ylabel(\"ErrTe\")\n",
    "\n",
    "\n",
    "sns.lineplot(x = np.arange(3, Kmax+1), y = fscoreCV.mean(axis=1), ax = ax[1])\n",
    "ax[1].set_xlabel(\"No of neighbours\")\n",
    "ax[1].set_ylabel(\"F-score\")\n",
    "\n",
    "\n",
    "sns.lineplot(x = np.arange(3, Kmax+1), y = recallCV.mean(axis=1), ax = ax[2])\n",
    "ax[2].set_xlabel(\"No of neighbours\")\n",
    "ax[2].set_ylabel(\"Recall\")"
   ]
  },
  {
   "cell_type": "markdown",
   "metadata": {},
   "source": [
    "From my results, I would suggest K=5 as my best K candidate. For this dataset, it is imbalance, only 6% of data is \"Yes\" and the other 94% are \"No\". Since we are not conducting rebalancing, recall and f-score are good evaluation criteria for imbalance dataset. I will choose a k with a high F-socre and Recall, and a low test error. Hence, i choose K=5 becasue it has the second highest f-score and recall, test error is a little high but it is still in accpetable range."
   ]
  },
  {
   "cell_type": "code",
   "execution_count": null,
   "metadata": {},
   "outputs": [],
   "source": []
  }
 ],
 "metadata": {
  "kernelspec": {
   "display_name": "Python 3 (ipykernel)",
   "language": "python",
   "name": "python3"
  },
  "language_info": {
   "codemirror_mode": {
    "name": "ipython",
    "version": 3
   },
   "file_extension": ".py",
   "mimetype": "text/x-python",
   "name": "python",
   "nbconvert_exporter": "python",
   "pygments_lexer": "ipython3",
   "version": "3.8.3"
  }
 },
 "nbformat": 4,
 "nbformat_minor": 4
}
