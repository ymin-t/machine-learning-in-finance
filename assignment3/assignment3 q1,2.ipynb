{
 "cells": [
  {
   "cell_type": "markdown",
   "id": "5295da4a",
   "metadata": {},
   "source": [
    "1. (40 marks) Data preprocessing:"
   ]
  },
  {
   "cell_type": "markdown",
   "id": "ad09f35c",
   "metadata": {},
   "source": [
    "(a) Construct the return vector (for all dates except for the first date) by the formula:"
   ]
  },
  {
   "cell_type": "code",
   "execution_count": 3,
   "id": "1d2a8296",
   "metadata": {},
   "outputs": [
    {
     "name": "stdout",
     "output_type": "stream",
     "text": [
      "<class 'pandas.core.frame.DataFrame'>\n",
      "DatetimeIndex: 1509 entries, 2014-01-02 to 2019-12-30\n",
      "Data columns (total 1 columns):\n",
      " #   Column     Non-Null Count  Dtype  \n",
      "---  ------     --------------  -----  \n",
      " 0   Adj Close  1509 non-null   float64\n",
      "dtypes: float64(1)\n",
      "memory usage: 23.6 KB\n"
     ]
    }
   ],
   "source": [
    "import pandas as pd\n",
    "import numpy as np\n",
    "\n",
    "df = pd.read_csv('^DJI.csv').loc[:,['Date', 'Adj Close']]\n",
    "df['Date'] = pd.to_datetime(df['Date'],format='%d/%m/%Y')\n",
    "df.set_index('Date', inplace=True)\n",
    "df.info()"
   ]
  },
  {
   "cell_type": "code",
   "execution_count": 4,
   "id": "d76e713e",
   "metadata": {},
   "outputs": [
    {
     "data": {
      "text/html": [
       "<div>\n",
       "<style scoped>\n",
       "    .dataframe tbody tr th:only-of-type {\n",
       "        vertical-align: middle;\n",
       "    }\n",
       "\n",
       "    .dataframe tbody tr th {\n",
       "        vertical-align: top;\n",
       "    }\n",
       "\n",
       "    .dataframe thead th {\n",
       "        text-align: right;\n",
       "    }\n",
       "</style>\n",
       "<table border=\"1\" class=\"dataframe\">\n",
       "  <thead>\n",
       "    <tr style=\"text-align: right;\">\n",
       "      <th></th>\n",
       "      <th>Adj Close</th>\n",
       "      <th>R</th>\n",
       "    </tr>\n",
       "    <tr>\n",
       "      <th>Date</th>\n",
       "      <th></th>\n",
       "      <th></th>\n",
       "    </tr>\n",
       "  </thead>\n",
       "  <tbody>\n",
       "    <tr>\n",
       "      <th>2014-01-02</th>\n",
       "      <td>16441.34961</td>\n",
       "      <td>NaN</td>\n",
       "    </tr>\n",
       "    <tr>\n",
       "      <th>2014-01-03</th>\n",
       "      <td>16469.99023</td>\n",
       "      <td>0.001742</td>\n",
       "    </tr>\n",
       "    <tr>\n",
       "      <th>2014-01-06</th>\n",
       "      <td>16425.09961</td>\n",
       "      <td>-0.002726</td>\n",
       "    </tr>\n",
       "    <tr>\n",
       "      <th>2014-01-07</th>\n",
       "      <td>16530.93945</td>\n",
       "      <td>0.006444</td>\n",
       "    </tr>\n",
       "    <tr>\n",
       "      <th>2014-01-08</th>\n",
       "      <td>16462.74023</td>\n",
       "      <td>-0.004126</td>\n",
       "    </tr>\n",
       "  </tbody>\n",
       "</table>\n",
       "</div>"
      ],
      "text/plain": [
       "              Adj Close         R\n",
       "Date                             \n",
       "2014-01-02  16441.34961       NaN\n",
       "2014-01-03  16469.99023  0.001742\n",
       "2014-01-06  16425.09961 -0.002726\n",
       "2014-01-07  16530.93945  0.006444\n",
       "2014-01-08  16462.74023 -0.004126"
      ]
     },
     "execution_count": 4,
     "metadata": {},
     "output_type": "execute_result"
    }
   ],
   "source": [
    "# Calculating the return vector\n",
    "df['R'] = df['Adj Close'].pct_change()\n",
    "\n",
    "df.head()"
   ]
  },
  {
   "cell_type": "markdown",
   "id": "f5fb1012",
   "metadata": {},
   "source": [
    "(b) Data before 1 Jan 2019 are considered as training data and data in 2019 are considered as test data. In the .csv file, the column “Training” is the indicator of training data. For the better performance of using deep learning models, we apply MinMaxScalar on R (both training and test data) by the formula:\n"
   ]
  },
  {
   "cell_type": "markdown",
   "id": "c41c504b",
   "metadata": {},
   "source": [
    "R.normedt = [Rt − min(R.train)] / [max(R.train) − min(R.train)]"
   ]
  },
  {
   "cell_type": "markdown",
   "id": "cb014671",
   "metadata": {},
   "source": [
    "where min(R.train) and max(R.train) are the minimum and maximum values of training data of R, respectively. Hence, R.normedt generally ranges from [0, 1] (test data may violate). In the .csv file, it is column “R.normed”."
   ]
  },
  {
   "cell_type": "code",
   "execution_count": 7,
   "id": "99e6b1cb",
   "metadata": {},
   "outputs": [
    {
     "name": "stdout",
     "output_type": "stream",
     "text": [
      "              Adj Close         R\n",
      "Date                             \n",
      "2018-12-24  21792.19922 -0.029100\n",
      "2018-12-26  22878.44922  0.049846\n",
      "2018-12-27  23138.82031  0.011381\n",
      "2018-12-28  23062.40039 -0.003303\n",
      "2018-12-31  23327.46094  0.011493\n",
      "              Adj Close         R\n",
      "Date                             \n",
      "2019-01-02  23346.24023  0.000805\n",
      "2019-01-03  22686.22070 -0.028271\n",
      "2019-01-04  23433.16016  0.032925\n",
      "2019-01-07  23531.34961  0.004190\n",
      "2019-01-08  23787.44922  0.010883\n"
     ]
    }
   ],
   "source": [
    "# Subsetting the training and testing dataframes\n",
    "df_train = df.loc['2018']\n",
    "print(df_train.tail())\n",
    "\n",
    "df_test = df.loc['2019']\n",
    "print(df_test.head())"
   ]
  },
  {
   "cell_type": "code",
   "execution_count": 9,
   "id": "5d553f5c",
   "metadata": {},
   "outputs": [
    {
     "name": "stdout",
     "output_type": "stream",
     "text": [
      "Date\n",
      "2014-01-02         NaN\n",
      "2014-01-03    0.498368\n",
      "2014-01-06    0.451780\n",
      "2014-01-07    0.547399\n",
      "2014-01-08    0.437181\n",
      "                ...   \n",
      "2019-12-23    0.515545\n",
      "2019-12-24    0.467025\n",
      "2019-12-26    0.518945\n",
      "2019-12-27    0.488899\n",
      "2019-12-30    0.413539\n",
      "Name: R.normed, Length: 1509, dtype: float64\n"
     ]
    }
   ],
   "source": [
    "from sklearn.preprocessing import MinMaxScaler\n",
    "\n",
    "\n",
    "mmscaler= MinMaxScaler()\n",
    "mmscaler.fit(df_train.loc[:,['R']])\n",
    "\n",
    "df['R.normed'] = mmscaler.transform(df.loc[:,['R']])\n",
    "\n",
    "print(df['R.normed'])"
   ]
  },
  {
   "cell_type": "markdown",
   "id": "64cf8589",
   "metadata": {},
   "source": [
    "(c) Suppose that our predictive analytics is to use the most recent 5 (transformed) returns to predict the next (transformed) return. Using the rolling-window approach\n",
    "introduced in Lecture 9 to construct samples of subsequences of R.normed and the\n",
    "corresponding output (next return). Recall that from a sequence (a1, a2, a3, a4, a5, a6, a7, . . .),\n",
    "we construct the input matrix X and output matrix Y as follows:\n",
    "Define the training data: X.train and Y.train and test data: X.test and Y.test. For\n",
    "you to double check, the date of first Y.train should be 10 January 2014 and the\n",
    "date of first Y.test should be 2 January 2019. In the .csv file, both training and\n",
    "test data are under columns “X1”, “X2”, “X3”, “X4”, “X5”, and “Y”."
   ]
  },
  {
   "cell_type": "code",
   "execution_count": 10,
   "id": "25700350",
   "metadata": {},
   "outputs": [
    {
     "name": "stdout",
     "output_type": "stream",
     "text": [
      "                  X1        X2        X3        X4        X5\n",
      "Date                                                        \n",
      "2014-01-10  0.498368  0.451780  0.547399  0.437181  0.468813\n",
      "2014-01-13  0.451780  0.547399  0.437181  0.468813  0.475314\n",
      "2014-01-14  0.547399  0.437181  0.468813  0.475314  0.366570\n",
      "2014-01-15  0.437181  0.468813  0.475314  0.366570  0.554555\n",
      "2014-01-16  0.468813  0.475314  0.366570  0.554555  0.549035\n",
      "                   Y\n",
      "Date                \n",
      "2014-01-10  0.475314\n",
      "2014-01-13  0.366570\n",
      "2014-01-14  0.554555\n",
      "2014-01-15  0.549035\n",
      "2014-01-16  0.439121\n"
     ]
    }
   ],
   "source": [
    "# Using the rolling window approach\n",
    "timesteps = 5; dayahead = 1\n",
    "\n",
    "Y = np.zeros(shape=(len(df) - timesteps - dayahead + 1, dayahead))\n",
    "for i in range(dayahead):\n",
    "    Y[:, i] = df['R.normed'][timesteps + i: len(df) - dayahead + i + 1]\n",
    "\n",
    "X = np.zeros(shape=(len(df) - timesteps - dayahead + 1, timesteps))\n",
    "for i in range(timesteps):\n",
    "    X[:, i] = df['R.normed'][i: len(Y) + i]\n",
    "\n",
    "# Creating the X & Y dataframes - the index is created from the original dataframe minus the first 5 rows. The first row is also dropped to prevent errors\n",
    "X = pd.DataFrame(X, index=df.iloc[5:, ].index).iloc[1:, ]\n",
    "Y = pd.DataFrame(Y, index=df.iloc[5:, ].index).iloc[1:, ]\n",
    "\n",
    "# Renaming the columns and creating the training and testing dataframes\n",
    "X = X.rename({0: 'X1', 1: 'X2', 2: 'X3', 3: 'X4', 4: 'X5'}, axis=1)\n",
    "Y = Y.rename({0: 'Y'}, axis=1)\n",
    "\n",
    "X_train = X.loc[:'2018', ]\n",
    "X_test = X.loc['2019':, ]\n",
    "\n",
    "Y_train = Y.loc[:'2018', ]\n",
    "Y_test = Y.loc['2019':, ]\n",
    "\n",
    "print(X_train.head())\n",
    "print(Y_train.head())"
   ]
  },
  {
   "cell_type": "markdown",
   "id": "6dbd4578",
   "metadata": {},
   "source": [
    "2. (40 marks) Using Feedforward neural networks (FFNN):"
   ]
  },
  {
   "cell_type": "markdown",
   "id": "55212e8e",
   "metadata": {},
   "source": [
    "(a) Train a two-hidden-layer FFNN using the training data. You are free to determine or just use the default values of the (hyper-)parameters. You are suggested to try different settings to see the impacts. However, one implementation\n",
    "suffices for this question while you can simply use the settings in the table below."
   ]
  },
  {
   "cell_type": "code",
   "execution_count": 13,
   "id": "aeec9a30",
   "metadata": {},
   "outputs": [
    {
     "name": "stdout",
     "output_type": "stream",
     "text": [
      "Epoch 1/30\n",
      "79/79 [==============================] - 0s 744us/step - loss: 0.0167\n",
      "Epoch 2/30\n",
      "79/79 [==============================] - 0s 731us/step - loss: 0.0095\n",
      "Epoch 3/30\n",
      "79/79 [==============================] - 0s 718us/step - loss: 0.0092\n",
      "Epoch 4/30\n",
      "79/79 [==============================] - 0s 718us/step - loss: 0.0089\n",
      "Epoch 5/30\n",
      "79/79 [==============================] - 0s 718us/step - loss: 0.0087\n",
      "Epoch 6/30\n",
      "79/79 [==============================] - 0s 757us/step - loss: 0.0085\n",
      "Epoch 7/30\n",
      "79/79 [==============================] - 0s 718us/step - loss: 0.0084\n",
      "Epoch 8/30\n",
      "79/79 [==============================] - 0s 744us/step - loss: 0.0083\n",
      "Epoch 9/30\n",
      "79/79 [==============================] - 0s 718us/step - loss: 0.0082\n",
      "Epoch 10/30\n",
      "79/79 [==============================] - 0s 731us/step - loss: 0.0082\n",
      "Epoch 11/30\n",
      "79/79 [==============================] - 0s 705us/step - loss: 0.0081\n",
      "Epoch 12/30\n",
      "79/79 [==============================] - 0s 846us/step - loss: 0.0081\n",
      "Epoch 13/30\n",
      "79/79 [==============================] - 0s 757us/step - loss: 0.0080\n",
      "Epoch 14/30\n",
      "79/79 [==============================] - 0s 769us/step - loss: 0.0079\n",
      "Epoch 15/30\n",
      "79/79 [==============================] - 0s 744us/step - loss: 0.0079\n",
      "Epoch 16/30\n",
      "79/79 [==============================] - 0s 731us/step - loss: 0.0079\n",
      "Epoch 17/30\n",
      "79/79 [==============================] - 0s 718us/step - loss: 0.0078\n",
      "Epoch 18/30\n",
      "79/79 [==============================] - 0s 744us/step - loss: 0.0078\n",
      "Epoch 19/30\n",
      "79/79 [==============================] - 0s 705us/step - loss: 0.0078\n",
      "Epoch 20/30\n",
      "79/79 [==============================] - 0s 744us/step - loss: 0.0078\n",
      "Epoch 21/30\n",
      "79/79 [==============================] - 0s 731us/step - loss: 0.0077\n",
      "Epoch 22/30\n",
      "79/79 [==============================] - 0s 718us/step - loss: 0.0077\n",
      "Epoch 23/30\n",
      "79/79 [==============================] - 0s 731us/step - loss: 0.0077\n",
      "Epoch 24/30\n",
      "79/79 [==============================] - 0s 782us/step - loss: 0.0077\n",
      "Epoch 25/30\n",
      "79/79 [==============================] - 0s 744us/step - loss: 0.0076\n",
      "Epoch 26/30\n",
      "79/79 [==============================] - 0s 718us/step - loss: 0.0076\n",
      "Epoch 27/30\n",
      "79/79 [==============================] - 0s 705us/step - loss: 0.0076\n",
      "Epoch 28/30\n",
      "79/79 [==============================] - 0s 731us/step - loss: 0.0076\n",
      "Epoch 29/30\n",
      "79/79 [==============================] - 0s 741us/step - loss: 0.0076\n",
      "Epoch 30/30\n",
      "79/79 [==============================] - 0s 705us/step - loss: 0.0075\n",
      "Model: \"sequential_2\"\n",
      "_________________________________________________________________\n",
      "Layer (type)                 Output Shape              Param #   \n",
      "=================================================================\n",
      "layer1 (Dense)               (None, 128)               768       \n",
      "_________________________________________________________________\n",
      "layer2 (Dense)               (None, 128)               16512     \n",
      "_________________________________________________________________\n",
      "output (Dense)               (None, 1)                 129       \n",
      "=================================================================\n",
      "Total params: 17,409\n",
      "Trainable params: 17,409\n",
      "Non-trainable params: 0\n",
      "_________________________________________________________________\n",
      "None\n"
     ]
    }
   ],
   "source": [
    "# 2 layer nn\n",
    "import tensorflow as tf\n",
    "from tensorflow import keras\n",
    "from keras import layers\n",
    "\n",
    "\n",
    "# Create sequential model\n",
    "model = keras.Sequential()\n",
    "\n",
    "model.add(layers.Dense(128, input_shape = (X_train.shape[1],), activation='relu', name='layer1'))\n",
    "model.add(layers.Dense(128, activation='relu', name='layer2'))\n",
    "model.add(layers.Dense(1, activation='relu', name='output'))\n",
    "model.compile(optimizer = 'rmsprop', loss = 'mean_squared_error')\n",
    "\n",
    "ret_tf = model.fit(x = X_train, y = Y_train,\n",
    "                    shuffle = False,\n",
    "                    batch_size = 16,\n",
    "                    epochs = 30)\n",
    "\n",
    "#evaluate model\n",
    "print(model.summary())"
   ]
  },
  {
   "cell_type": "markdown",
   "id": "c7fce9b9",
   "metadata": {},
   "source": [
    "(b) Use the trained model in part (a) to predict for the test data (X.test). Note that\n",
    "the predicted values are transformed returns. Hence, you need to first convert it\n",
    "back to returns (R.predt) by reversing the formula in Q1(b) and then use the\n",
    "return to recover the price prediction: S.predt = St−1 ∗ (1 + R.predt)."
   ]
  },
  {
   "cell_type": "code",
   "execution_count": 22,
   "id": "f73ca8f6",
   "metadata": {},
   "outputs": [
    {
     "data": {
      "text/html": [
       "<div>\n",
       "<style scoped>\n",
       "    .dataframe tbody tr th:only-of-type {\n",
       "        vertical-align: middle;\n",
       "    }\n",
       "\n",
       "    .dataframe tbody tr th {\n",
       "        vertical-align: top;\n",
       "    }\n",
       "\n",
       "    .dataframe thead th {\n",
       "        text-align: right;\n",
       "    }\n",
       "</style>\n",
       "<table border=\"1\" class=\"dataframe\">\n",
       "  <thead>\n",
       "    <tr style=\"text-align: right;\">\n",
       "      <th></th>\n",
       "      <th>Adj Close</th>\n",
       "      <th>R</th>\n",
       "      <th>R_pred</th>\n",
       "      <th>Adj Close_pred</th>\n",
       "    </tr>\n",
       "    <tr>\n",
       "      <th>Date</th>\n",
       "      <th></th>\n",
       "      <th></th>\n",
       "      <th></th>\n",
       "      <th></th>\n",
       "    </tr>\n",
       "  </thead>\n",
       "  <tbody>\n",
       "    <tr>\n",
       "      <th>2019-01-02</th>\n",
       "      <td>23346.24023</td>\n",
       "      <td>0.000805</td>\n",
       "      <td>-0.003454</td>\n",
       "      <td>23346.240230</td>\n",
       "    </tr>\n",
       "    <tr>\n",
       "      <th>2019-01-03</th>\n",
       "      <td>22686.22070</td>\n",
       "      <td>-0.028271</td>\n",
       "      <td>0.003167</td>\n",
       "      <td>23420.182195</td>\n",
       "    </tr>\n",
       "    <tr>\n",
       "      <th>2019-01-04</th>\n",
       "      <td>23433.16016</td>\n",
       "      <td>0.032925</td>\n",
       "      <td>-0.002402</td>\n",
       "      <td>22631.720546</td>\n",
       "    </tr>\n",
       "    <tr>\n",
       "      <th>2019-01-07</th>\n",
       "      <td>23531.34961</td>\n",
       "      <td>0.004190</td>\n",
       "      <td>-0.012634</td>\n",
       "      <td>23137.100425</td>\n",
       "    </tr>\n",
       "    <tr>\n",
       "      <th>2019-01-08</th>\n",
       "      <td>23787.44922</td>\n",
       "      <td>0.010883</td>\n",
       "      <td>-0.003768</td>\n",
       "      <td>23442.690140</td>\n",
       "    </tr>\n",
       "  </tbody>\n",
       "</table>\n",
       "</div>"
      ],
      "text/plain": [
       "              Adj Close         R    R_pred  Adj Close_pred\n",
       "Date                                                       \n",
       "2019-01-02  23346.24023  0.000805 -0.003454    23346.240230\n",
       "2019-01-03  22686.22070 -0.028271  0.003167    23420.182195\n",
       "2019-01-04  23433.16016  0.032925 -0.002402    22631.720546\n",
       "2019-01-07  23531.34961  0.004190 -0.012634    23137.100425\n",
       "2019-01-08  23787.44922  0.010883 -0.003768    23442.690140"
      ]
     },
     "execution_count": 22,
     "metadata": {},
     "output_type": "execute_result"
    }
   ],
   "source": [
    "# predict\n",
    "y_pred = model.predict(X_test)\n",
    "\n",
    "# inverse scaling\n",
    "R_pred = mmscaler.inverse_transform(y_pred)\n",
    "\n",
    "# Converting the returns back to prices\n",
    "df_test['R_pred'] = R_pred\n",
    "df_test['Adj Close_pred'] = 0\n",
    "\n",
    "for i in range(len(df_test)):\n",
    "    # There is no prior return for the first row.\n",
    "    # So, I'm assuming the return was equal to zero, and as such, I set the prediction to be equal to the adjusted close for that day.\n",
    "    if i == 0:\n",
    "        df_test.iloc[i, -1] = df_test.iloc[i, 0]\n",
    "    else:\n",
    "        df_test.iloc[i, -1] = df_test.iloc[i - 1, 0] * (1 + df_test.iloc[i, 2])\n",
    "\n",
    "df_test.head()"
   ]
  },
  {
   "cell_type": "markdown",
   "id": "b4d280ff",
   "metadata": {},
   "source": [
    "(c) Compute the test mean absolute percentage error (MAPE) "
   ]
  },
  {
   "cell_type": "code",
   "execution_count": 24,
   "id": "9fc4e26c",
   "metadata": {},
   "outputs": [
    {
     "name": "stdout",
     "output_type": "stream",
     "text": [
      "The MAPE is 0.681557%\n"
     ]
    }
   ],
   "source": [
    "# compute MAPE\n",
    "MAPE = np.mean(np.abs(df_test['Adj Close'] - df_test['Adj Close_pred']) / df_test['Adj Close'] )\n",
    "print('The MAPE is {:%}' .format(MAPE))"
   ]
  },
  {
   "cell_type": "markdown",
   "id": "f8959b31",
   "metadata": {},
   "source": [
    "3. (20 marks) Using long-short term memory (LSTM) networks:"
   ]
  },
  {
   "cell_type": "markdown",
   "id": "89dee444",
   "metadata": {},
   "source": [
    "(a) Train a LSTM network with two hidden LSTM layers using the training data.\n",
    "To this end, you are reminded to convert X to a 3D-array and Y to a matrix.\n",
    "The number of variables is 1 in this case."
   ]
  },
  {
   "cell_type": "code",
   "execution_count": 25,
   "id": "1c6b8aee",
   "metadata": {},
   "outputs": [],
   "source": [
    "## convert to array\n",
    "X_train = np.expand_dims(X_train, axis = 2)\n",
    "Y_train = np.matrix(Y_train)"
   ]
  },
  {
   "cell_type": "code",
   "execution_count": 27,
   "id": "0596a551",
   "metadata": {},
   "outputs": [
    {
     "name": "stdout",
     "output_type": "stream",
     "text": [
      "Epoch 1/30\n",
      "79/79 [==============================] - 3s 6ms/step - loss: 0.0142 - mean_absolute_error: 0.0841\n",
      "Epoch 2/30\n",
      "79/79 [==============================] - 0s 6ms/step - loss: 0.0098 - mean_absolute_error: 0.0722\n",
      "Epoch 3/30\n",
      "79/79 [==============================] - 0s 6ms/step - loss: 0.0092 - mean_absolute_error: 0.0700\n",
      "Epoch 4/30\n",
      "79/79 [==============================] - 0s 6ms/step - loss: 0.0089 - mean_absolute_error: 0.0680\n",
      "Epoch 5/30\n",
      "79/79 [==============================] - 0s 6ms/step - loss: 0.0087 - mean_absolute_error: 0.0667\n",
      "Epoch 6/30\n",
      "79/79 [==============================] - 0s 6ms/step - loss: 0.0085 - mean_absolute_error: 0.0658\n",
      "Epoch 7/30\n",
      "79/79 [==============================] - 0s 6ms/step - loss: 0.0084 - mean_absolute_error: 0.0651\n",
      "Epoch 8/30\n",
      "79/79 [==============================] - 0s 6ms/step - loss: 0.0083 - mean_absolute_error: 0.0646\n",
      "Epoch 9/30\n",
      "79/79 [==============================] - 0s 6ms/step - loss: 0.0083 - mean_absolute_error: 0.0642\n",
      "Epoch 10/30\n",
      "79/79 [==============================] - 0s 6ms/step - loss: 0.0082 - mean_absolute_error: 0.0638\n",
      "Epoch 11/30\n",
      "79/79 [==============================] - 0s 6ms/step - loss: 0.0082 - mean_absolute_error: 0.0635\n",
      "Epoch 12/30\n",
      "79/79 [==============================] - 0s 6ms/step - loss: 0.0081 - mean_absolute_error: 0.0633\n",
      "Epoch 13/30\n",
      "79/79 [==============================] - 0s 6ms/step - loss: 0.0081 - mean_absolute_error: 0.0631\n",
      "Epoch 14/30\n",
      "79/79 [==============================] - 0s 6ms/step - loss: 0.0081 - mean_absolute_error: 0.0629\n",
      "Epoch 15/30\n",
      "79/79 [==============================] - 1s 6ms/step - loss: 0.0080 - mean_absolute_error: 0.0627\n",
      "Epoch 16/30\n",
      "79/79 [==============================] - 0s 6ms/step - loss: 0.0080 - mean_absolute_error: 0.0626\n",
      "Epoch 17/30\n",
      "79/79 [==============================] - 0s 6ms/step - loss: 0.0080 - mean_absolute_error: 0.0625\n",
      "Epoch 18/30\n",
      "79/79 [==============================] - 0s 6ms/step - loss: 0.0080 - mean_absolute_error: 0.0625\n",
      "Epoch 19/30\n",
      "79/79 [==============================] - 0s 6ms/step - loss: 0.0080 - mean_absolute_error: 0.0623\n",
      "Epoch 20/30\n",
      "79/79 [==============================] - 0s 6ms/step - loss: 0.0080 - mean_absolute_error: 0.0623\n",
      "Epoch 21/30\n",
      "79/79 [==============================] - 0s 6ms/step - loss: 0.0080 - mean_absolute_error: 0.0622\n",
      "Epoch 22/30\n",
      "79/79 [==============================] - 0s 6ms/step - loss: 0.0079 - mean_absolute_error: 0.0622\n",
      "Epoch 23/30\n",
      "79/79 [==============================] - 0s 6ms/step - loss: 0.0079 - mean_absolute_error: 0.0621\n",
      "Epoch 24/30\n",
      "79/79 [==============================] - 0s 6ms/step - loss: 0.0079 - mean_absolute_error: 0.0621\n",
      "Epoch 25/30\n",
      "79/79 [==============================] - 0s 6ms/step - loss: 0.0079 - mean_absolute_error: 0.0620\n",
      "Epoch 26/30\n",
      "79/79 [==============================] - 0s 6ms/step - loss: 0.0079 - mean_absolute_error: 0.0620\n",
      "Epoch 27/30\n",
      "79/79 [==============================] - 0s 6ms/step - loss: 0.0079 - mean_absolute_error: 0.0620\n",
      "Epoch 28/30\n",
      "79/79 [==============================] - 0s 6ms/step - loss: 0.0079 - mean_absolute_error: 0.0619\n",
      "Epoch 29/30\n",
      "79/79 [==============================] - 0s 6ms/step - loss: 0.0079 - mean_absolute_error: 0.0619\n",
      "Epoch 30/30\n",
      "79/79 [==============================] - 0s 6ms/step - loss: 0.0079 - mean_absolute_error: 0.0619\n",
      "Model: \"sequential_4\"\n",
      "_________________________________________________________________\n",
      "Layer (type)                 Output Shape              Param #   \n",
      "=================================================================\n",
      "layer1 (LSTM)                (None, 5, 128)            66560     \n",
      "_________________________________________________________________\n",
      "layer2 (LSTM)                (None, 128)               131584    \n",
      "_________________________________________________________________\n",
      "output (Dense)               (None, 1)                 129       \n",
      "=================================================================\n",
      "Total params: 198,273\n",
      "Trainable params: 198,273\n",
      "Non-trainable params: 0\n",
      "_________________________________________________________________\n",
      "None\n"
     ]
    }
   ],
   "source": [
    "# LSTM\n",
    "\n",
    "model = keras.Sequential()\n",
    "model.add(layers.LSTM(128, activation = \"tanh\", input_shape = (5, 1), return_sequences=True, name='layer1'))\n",
    "model.add(layers.LSTM(128, activation = \"tanh\", name='layer2'))\n",
    "model.add(layers.Dense(1, name='output'))\n",
    "\n",
    "model.compile(optimizer = 'rmsprop', loss = 'mean_squared_error', metrics = ['mean_absolute_error'])\n",
    "\n",
    "ret_tf = model.fit(x = X_train, y = Y_train,\n",
    "                    shuffle = False,\n",
    "                    batch_size = 16,\n",
    "                    epochs = 30)\n",
    "\n",
    "\n",
    "#evaluate model\n",
    "print(model.summary())"
   ]
  },
  {
   "cell_type": "markdown",
   "id": "5b5edd9f",
   "metadata": {},
   "source": [
    "(b) Use the trained model in part (a) to predict for the test data (X.test)."
   ]
  },
  {
   "cell_type": "code",
   "execution_count": 30,
   "id": "77e9ab86",
   "metadata": {},
   "outputs": [
    {
     "data": {
      "text/html": [
       "<div>\n",
       "<style scoped>\n",
       "    .dataframe tbody tr th:only-of-type {\n",
       "        vertical-align: middle;\n",
       "    }\n",
       "\n",
       "    .dataframe tbody tr th {\n",
       "        vertical-align: top;\n",
       "    }\n",
       "\n",
       "    .dataframe thead th {\n",
       "        text-align: right;\n",
       "    }\n",
       "</style>\n",
       "<table border=\"1\" class=\"dataframe\">\n",
       "  <thead>\n",
       "    <tr style=\"text-align: right;\">\n",
       "      <th></th>\n",
       "      <th>Adj Close</th>\n",
       "      <th>R</th>\n",
       "      <th>R_pred</th>\n",
       "      <th>Adj Close_pred</th>\n",
       "      <th>R_pred_lstm</th>\n",
       "      <th>Adj Close_pred_lstm</th>\n",
       "    </tr>\n",
       "    <tr>\n",
       "      <th>Date</th>\n",
       "      <th></th>\n",
       "      <th></th>\n",
       "      <th></th>\n",
       "      <th></th>\n",
       "      <th></th>\n",
       "      <th></th>\n",
       "    </tr>\n",
       "  </thead>\n",
       "  <tbody>\n",
       "    <tr>\n",
       "      <th>2019-01-02</th>\n",
       "      <td>23346.24023</td>\n",
       "      <td>0.000805</td>\n",
       "      <td>-0.003454</td>\n",
       "      <td>23346.240230</td>\n",
       "      <td>0.000037</td>\n",
       "      <td>23346.240230</td>\n",
       "    </tr>\n",
       "    <tr>\n",
       "      <th>2019-01-03</th>\n",
       "      <td>22686.22070</td>\n",
       "      <td>-0.028271</td>\n",
       "      <td>0.003167</td>\n",
       "      <td>23420.182195</td>\n",
       "      <td>-0.000706</td>\n",
       "      <td>23329.763510</td>\n",
       "    </tr>\n",
       "    <tr>\n",
       "      <th>2019-01-04</th>\n",
       "      <td>23433.16016</td>\n",
       "      <td>0.032925</td>\n",
       "      <td>-0.002402</td>\n",
       "      <td>22631.720546</td>\n",
       "      <td>-0.000289</td>\n",
       "      <td>22679.674474</td>\n",
       "    </tr>\n",
       "    <tr>\n",
       "      <th>2019-01-07</th>\n",
       "      <td>23531.34961</td>\n",
       "      <td>0.004190</td>\n",
       "      <td>-0.012634</td>\n",
       "      <td>23137.100425</td>\n",
       "      <td>0.000425</td>\n",
       "      <td>23443.130936</td>\n",
       "    </tr>\n",
       "    <tr>\n",
       "      <th>2019-01-08</th>\n",
       "      <td>23787.44922</td>\n",
       "      <td>0.010883</td>\n",
       "      <td>-0.003768</td>\n",
       "      <td>23442.690140</td>\n",
       "      <td>0.000100</td>\n",
       "      <td>23533.697968</td>\n",
       "    </tr>\n",
       "  </tbody>\n",
       "</table>\n",
       "</div>"
      ],
      "text/plain": [
       "              Adj Close         R    R_pred  Adj Close_pred  R_pred_lstm  \\\n",
       "Date                                                                       \n",
       "2019-01-02  23346.24023  0.000805 -0.003454    23346.240230     0.000037   \n",
       "2019-01-03  22686.22070 -0.028271  0.003167    23420.182195    -0.000706   \n",
       "2019-01-04  23433.16016  0.032925 -0.002402    22631.720546    -0.000289   \n",
       "2019-01-07  23531.34961  0.004190 -0.012634    23137.100425     0.000425   \n",
       "2019-01-08  23787.44922  0.010883 -0.003768    23442.690140     0.000100   \n",
       "\n",
       "            Adj Close_pred_lstm  \n",
       "Date                             \n",
       "2019-01-02         23346.240230  \n",
       "2019-01-03         23329.763510  \n",
       "2019-01-04         22679.674474  \n",
       "2019-01-07         23443.130936  \n",
       "2019-01-08         23533.697968  "
      ]
     },
     "execution_count": 30,
     "metadata": {},
     "output_type": "execute_result"
    }
   ],
   "source": [
    "# Reshaping X_test & Y_test\n",
    "X_test = np.expand_dims(X_test, axis = 2)\n",
    "Y_test = np.matrix(Y_test)\n",
    "\n",
    "# predict\n",
    "y_pred_lstm = model.predict(X_test)\n",
    "\n",
    "# Recovering the returns from the scaled returns\n",
    "R_pred_lstm = mmscaler.inverse_transform(y_pred_lstm)\n",
    "\n",
    "# Converting the returns back to prices\n",
    "df_test['R_pred_lstm'] = R_pred_lstm\n",
    "df_test['Adj Close_pred_lstm'] = 0\n",
    "\n",
    "for i in range(len(df_test)):\n",
    "    # There is no prior return for the first row.\n",
    "    # So, I'm assuming the return was equal to zero, and as such, I set the prediction to be equal to the adjusted close for that day.\n",
    "    if i == 0:\n",
    "        df_test.iloc[i, -1] = df_test.iloc[i, 0]\n",
    "    else:\n",
    "        df_test.iloc[i, -1] = df_test.iloc[i - 1, 0] * (1 + df_test.iloc[i, -2])\n",
    "\n",
    "df_test.head()"
   ]
  },
  {
   "cell_type": "markdown",
   "id": "6ed7fce9",
   "metadata": {},
   "source": [
    "(c) Compute the test mean absolute percentage error (MAPE)."
   ]
  },
  {
   "cell_type": "code",
   "execution_count": 31,
   "id": "11cbd5d9",
   "metadata": {},
   "outputs": [
    {
     "name": "stdout",
     "output_type": "stream",
     "text": [
      "The MAPE is 0.555819%\n"
     ]
    }
   ],
   "source": [
    "# compute MAPE\n",
    "MAPE = np.mean(np.abs(df_test['Adj Close'] - df_test['Adj Close_pred_lstm']) / df_test['Adj Close'] )\n",
    "print('The MAPE is {:%}' .format(MAPE))"
   ]
  },
  {
   "cell_type": "code",
   "execution_count": 39,
   "id": "5a053136",
   "metadata": {},
   "outputs": [
    {
     "data": {
      "text/plain": [
       "Text(0.5, 0, 'Days')"
      ]
     },
     "execution_count": 39,
     "metadata": {},
     "output_type": "execute_result"
    },
    {
     "data": {
      "image/png": "[encoded data removed]",
      "text/plain": [
       "<Figure size 432x288 with 1 Axes>"
      ]
     },
     "metadata": {
      "needs_background": "light"
     },
     "output_type": "display_data"
    }
   ],
   "source": [
    "import matplotlib.pyplot as plt\n",
    "\n",
    "ax2 = df_test['Adj Close_pred_lstm'].plot(color='b')\n",
    "df_test['Adj Close'].plot(ax=ax2, color='g')\n",
    "df['Adj Close']['2018'].plot(ax=ax2, color='r')\n",
    "plt.legend(['Pred Close','Actual Close','Historical price'])\n",
    "plt.title(\"lstm prediction\")\n",
    "plt.ylabel(\"Price\")\n",
    "plt.xlabel(\"Days\")"
   ]
  },
  {
   "cell_type": "code",
   "execution_count": 41,
   "id": "ebb75878",
   "metadata": {},
   "outputs": [
    {
     "data": {
      "text/plain": [
       "Text(0.5, 0, 'Days')"
      ]
     },
     "execution_count": 41,
     "metadata": {},
     "output_type": "execute_result"
    },
    {
     "data": {
      "image/png": "[encoded data removed]",
      "text/plain": [
       "<Figure size 432x288 with 1 Axes>"
      ]
     },
     "metadata": {
      "needs_background": "light"
     },
     "output_type": "display_data"
    }
   ],
   "source": [
    "ax2 = df_test['Adj Close_pred'].plot(color='b')\n",
    "df_test['Adj Close'].plot(ax=ax2, color='g')\n",
    "df['Adj Close']['2018'].plot(ax=ax2, color='r')\n",
    "plt.legend(['Pred Close','Actual Close','Historical price'])\n",
    "plt.title(\"FNN prediction\")\n",
    "plt.ylabel(\"Price\")\n",
    "plt.xlabel(\"Days\")"
   ]
  },
  {
   "cell_type": "code",
   "execution_count": null,
   "id": "8eaffd43",
   "metadata": {},
   "outputs": [],
   "source": []
  }
 ],
 "metadata": {
  "kernelspec": {
   "display_name": "Python 3 (ipykernel)",
   "language": "python",
   "name": "python3"
  },
  "language_info": {
   "codemirror_mode": {
    "name": "ipython",
    "version": 3
   },
   "file_extension": ".py",
   "mimetype": "text/x-python",
   "name": "python",
   "nbconvert_exporter": "python",
   "pygments_lexer": "ipython3",
   "version": "3.8.3"
  }
 },
 "nbformat": 4,
 "nbformat_minor": 5
}
